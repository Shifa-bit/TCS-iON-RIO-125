{
  "nbformat": 4,
  "nbformat_minor": 0,
  "metadata": {
    "colab": {
      "name": "Text Emotions Detection with Machine Learning.ipynb",
      "provenance": [],
      "collapsed_sections": [],
      "authorship_tag": "ABX9TyPQiIm8xvMg1JUwoxV+D6cX",
      "include_colab_link": true
    },
    "kernelspec": {
      "name": "python3",
      "display_name": "Python 3"
    },
    "language_info": {
      "name": "python"
    }
  },
  "cells": [
    {
      "cell_type": "markdown",
      "metadata": {
        "id": "view-in-github",
        "colab_type": "text"
      },
      "source": [
        "<a href=\"https://colab.research.google.com/github/Shifa-bit/TCS-iON-RIO-125/blob/main/Text_Emotions_Detection.ipynb\" target=\"_parent\"><img src=\"https://colab.research.google.com/assets/colab-badge.svg\" alt=\"Open In Colab\"/></a>"
      ]
    },
    {
      "cell_type": "code",
      "execution_count": 7,
      "metadata": {
        "colab": {
          "base_uri": "https://localhost:8080/"
        },
        "id": "qKddXBK1YuOc",
        "outputId": "a8968201-1136-4a3b-9182-c8667c977b3b"
      },
      "outputs": [
        {
          "output_type": "stream",
          "name": "stdout",
          "text": [
            "Number of instances: 7480\n"
          ]
        }
      ],
      "source": [
        "# Importing the necessary Python libraries and the dataset:\n",
        "import re \n",
        "from collections import Counter\n",
        "from sklearn.model_selection import train_test_split\n",
        "from sklearn.metrics import accuracy_score\n",
        "from sklearn.svm import SVC\n",
        "from sklearn.svm import LinearSVC\n",
        "from sklearn.ensemble import RandomForestClassifier\n",
        "from sklearn.tree import DecisionTreeClassifier\n",
        "\n",
        "def read_data(file):\n",
        "  data = []\n",
        "  with open(file, 'r') as f:\n",
        "    for line in f:\n",
        "      line = line.strip()\n",
        "      label = ' '.join(line[1:line.find(\"]\")].strip().split())\n",
        "      text = line[line.find(\"]\") + 1:].strip()\n",
        "      data.append([label, text])\n",
        "  return data\n",
        "\n",
        "file = 'text.txt'\n",
        "data = read_data(file)\n",
        "print(\"Number of instances: {}\".format(len(data)))\n",
        "\n",
        "\n"
      ]
    },
    {
      "cell_type": "code",
      "source": [
        ""
      ],
      "metadata": {
        "id": "yLkrXRp6pUu7"
      },
      "execution_count": null,
      "outputs": []
    },
    {
      "cell_type": "markdown",
      "source": [
        "Now I will create two Python functions for tokenization and generating the features of an input sentence:"
      ],
      "metadata": {
        "id": "R8yzAiycdUZV"
      }
    },
    {
      "cell_type": "code",
      "source": [
        "def ngram(token, n):\n",
        "  output = []\n",
        "  for i in range(n-1, len(token)):\n",
        "    ngram = ' '.join(token[i-n+1:i+1])\n",
        "    output.append(ngram)\n",
        "  return output\n",
        "\n",
        "def create_features(text, nrange = (1,1)):\n",
        "  text_features = []\n",
        "  text = text.lower()\n",
        "  text_alphanum = re.sub('[^a-z0-9#]', ' ', text)\n",
        "  for n in range(nrange[0], nrange[1]+1):\n",
        "    text_features += ngram(text_alphanum.split(), n)\n",
        "    text_punc = re.sub('[a-z0-9]', ' ', text)\n",
        "    text_features += ngram(text_punc.split(), 1)\n",
        "    return Counter(text_features)\n"
      ],
      "metadata": {
        "id": "VZ3b3gyrdeZ5"
      },
      "execution_count": 42,
      "outputs": []
    },
    {
      "cell_type": "markdown",
      "source": [
        "Now I will create a Python function to store the labels, our labels will be based on emotions such as Joy, Fear, Anger, and so on:"
      ],
      "metadata": {
        "id": "geLRMHT7eilv"
      }
    },
    {
      "cell_type": "code",
      "source": [
        "def convert_label(item, name):\n",
        "  items = list(map(float, item.split()))\n",
        "  label = \"\"\n",
        "  for idx in range(len(items)):\n",
        "    if items[idx] == 1:\n",
        "      label += name[idx] + \" \"\n",
        "\n",
        "  return label.strip()\n",
        "\n",
        "emotions = [\"joy\", \"fear\", \"anger\", \"sadness\", \"disgust\", \"shame\", \"guilt\"]\n",
        "\n",
        "X_all = []\n",
        "y_all = []\n",
        "for label, text in data:\n",
        "    y_all.append(convert_label(label, emotions))\n",
        "    X_all.append(create_features(text, nrange=(1, 4)))"
      ],
      "metadata": {
        "id": "4iNJgV6oelpw"
      },
      "execution_count": 46,
      "outputs": []
    },
    {
      "cell_type": "markdown",
      "source": [
        "Now I will split the data into training and test sets:"
      ],
      "metadata": {
        "id": "OFpwsWOhhsb8"
      }
    },
    {
      "cell_type": "code",
      "source": [
        "X_train, X_test, y_train, y_test = train_test_split(X_all, y_all, test_size = 0.2, random_state = 123)\n",
        "\n",
        "def train_test(clf, X_train, X_test, y_train, y_test):\n",
        "    clf.fit(X_train, y_train)\n",
        "    train_acc = accuracy_score(y_train, clf.predict(X_train))\n",
        "    test_acc = accuracy_score(y_test, clf.predict(X_test))\n",
        "    return train_acc, test_acc\n",
        "\n",
        "from sklearn.feature_extraction import DictVectorizer\n",
        "vectorizer = DictVectorizer(sparse = True)\n",
        "X_train = vectorizer.fit_transform(X_train)\n",
        "X_test = vectorizer.transform(X_test)"
      ],
      "metadata": {
        "id": "LLfTo0M5hu38"
      },
      "execution_count": 47,
      "outputs": []
    },
    {
      "cell_type": "markdown",
      "source": [
        "Now I’m going to train four models and then choose the model that works best on the training and testing sets:"
      ],
      "metadata": {
        "id": "wHy4LkRdu058"
      }
    },
    {
      "cell_type": "code",
      "source": [
        "svc = SVC()\n",
        "lsvc = LinearSVC(random_state=123)\n",
        "rforest = RandomForestClassifier(random_state=123)\n",
        "dtree = DecisionTreeClassifier()\n",
        "\n",
        "clifs = [svc, lsvc, rforest, dtree]\n",
        "\n",
        "# train and test them \n",
        "print(\"| {:25} | {} | {} |\".format(\"Classifier\", \"Training Accuracy\", \"Test Accuracy\"))\n",
        "print(\"| {} | {} | {} |\".format(\"-\"*25, \"-\"*17, \"-\"*13))\n",
        "for clf in clifs: \n",
        "    clf_name = clf.__class__.__name__\n",
        "    train_acc, test_acc = train_test(clf, X_train, X_test, y_train, y_test)\n",
        "    print(\"| {:25} | {:17.7f} | {:13.7f} |\".format(clf_name, train_acc, test_acc))"
      ],
      "metadata": {
        "colab": {
          "base_uri": "https://localhost:8080/"
        },
        "id": "yBzXHo2Au6o6",
        "outputId": "91e654a9-c0b0-48e1-cbca-47455470ceba"
      },
      "execution_count": 48,
      "outputs": [
        {
          "output_type": "stream",
          "name": "stdout",
          "text": [
            "| Classifier                | Training Accuracy | Test Accuracy |\n",
            "| ------------------------- | ----------------- | ------------- |\n",
            "| SVC                       |         0.8016377 |     0.4939840 |\n"
          ]
        },
        {
          "output_type": "stream",
          "name": "stderr",
          "text": [
            "/usr/local/lib/python3.7/dist-packages/sklearn/svm/_base.py:1208: ConvergenceWarning: Liblinear failed to converge, increase the number of iterations.\n",
            "  ConvergenceWarning,\n"
          ]
        },
        {
          "output_type": "stream",
          "name": "stdout",
          "text": [
            "| LinearSVC                 |         0.9901404 |     0.5467914 |\n",
            "| RandomForestClassifier    |         0.9988302 |     0.5434492 |\n",
            "| DecisionTreeClassifier    |         0.9988302 |     0.4532086 |\n"
          ]
        }
      ]
    },
    {
      "cell_type": "markdown",
      "source": [
        "# **Detecting Emotion**"
      ],
      "metadata": {
        "id": "9E7_qgBZFPLV"
      }
    },
    {
      "cell_type": "markdown",
      "source": [
        "Now, I’m going to assign an emoji to each label that is emotions in this problem, then I’ll write 4 input sentences, then I’ll use our trained model to take a look at the emotions of our input sentences:"
      ],
      "metadata": {
        "id": "pf9IGOXPFYrJ"
      }
    },
    {
      "cell_type": "code",
      "source": [
        "l = [\"joy\", 'fear', \"anger\", \"sadness\", \"disgust\", \"shame\", \"guilt\"]\n",
        "l.sort()\n",
        "label_freq = {}\n",
        "for label, _ in data: \n",
        "    label_freq[label] = label_freq.get(label, 0) + 1\n",
        "\n",
        "# print the labels and their counts in sorted order \n",
        "for l in sorted(label_freq, key=label_freq.get, reverse=True):\n",
        "    print(\"{:10}({})  {}\".format(convert_label(l, emotions), l, label_freq[l]))"
      ],
      "metadata": {
        "colab": {
          "base_uri": "https://localhost:8080/"
        },
        "id": "D1GpiLsyFmEu",
        "outputId": "5ece51dd-1dbd-4b11-dcb2-0090e9f2bcb5"
      },
      "execution_count": 49,
      "outputs": [
        {
          "output_type": "stream",
          "name": "stdout",
          "text": [
            "joy       (1. 0. 0. 0. 0. 0. 0.)  1084\n",
            "anger     (0. 0. 1. 0. 0. 0. 0.)  1080\n",
            "sadness   (0. 0. 0. 1. 0. 0. 0.)  1079\n",
            "fear      (0. 1. 0. 0. 0. 0. 0.)  1078\n",
            "disgust   (0. 0. 0. 0. 1. 0. 0.)  1057\n",
            "guilt     (0. 0. 0. 0. 0. 0. 1.)  1057\n",
            "shame     (0. 0. 0. 0. 0. 1. 0.)  1045\n"
          ]
        }
      ]
    },
    {
      "cell_type": "code",
      "source": [
        "emoji_dict = {\"joy\":\"😂\", \"fear\":\"😱\", \"anger\":\"😠\", \"sadness\":\"😢\", \"disgust\":\"😒\", \"shame\":\"😳\", \"guilt\":\"😳\"}\n",
        "t1 = \"This looks so impressive\"\n",
        "t2 = \"I have a fear of dogs\"\n",
        "t3 = \"My dog died yesterday\"\n",
        "t4 = \"I don't love you anymore..!\"\n",
        "\n",
        "texts = [t1, t2, t3, t4]\n",
        "for text in texts: \n",
        "    features = create_features(text, nrange=(1, 4))\n",
        "    features = vectorizer.transform(features)\n",
        "    prediction = clf.predict(features)[0]\n",
        "    print( text,emoji_dict[prediction])"
      ],
      "metadata": {
        "colab": {
          "base_uri": "https://localhost:8080/"
        },
        "id": "WXM8S7_MFrBK",
        "outputId": "5939a081-b74d-4696-8f25-d644d679c3d1"
      },
      "execution_count": 51,
      "outputs": [
        {
          "output_type": "stream",
          "name": "stdout",
          "text": [
            "This looks so impressive 😒\n",
            "I have a fear of dogs 😱\n",
            "My dog died yesterday 😢\n",
            "I don't love you anymore..! 😂\n"
          ]
        }
      ]
    },
    {
      "cell_type": "markdown",
      "source": [
        "Here is the generated output. This is how we can perform task of detecting emotions from the sentence text. This is an important task of human-machine interactions."
      ],
      "metadata": {
        "id": "xNrer2gIF7_V"
      }
    },
    {
      "cell_type": "markdown",
      "source": [
        ""
      ],
      "metadata": {
        "id": "EJqVKoZaHUNX"
      }
    },
    {
      "cell_type": "code",
      "source": [
        ""
      ],
      "metadata": {
        "id": "EOAFqXGrFK1Q"
      },
      "execution_count": null,
      "outputs": []
    }
  ]
}